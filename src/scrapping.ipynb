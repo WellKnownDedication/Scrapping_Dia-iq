{
 "cells": [
  {
   "cell_type": "markdown",
   "metadata": {},
   "source": [
    "# Personal Project\n",
    "\n",
    "by Bohdan Krushelnytskyi\n",
    "\n",
    "Your page for scanning: https://dia-iq.lt/naujienos/ (page https://dia-iq.lt/ with the category NAUJIENOS (https://dia-iq.lt/naujienos/))\n",
    "You need to scan the articles on the page with meta data (author, title, date and additional information, if any).\n",
    "Scan articles between \"now and 2015\" (if there are any problems here, write, I will review it specifically).\n",
    "Save articles in .txt format. If the page has a .pdf uploaded, then you need both the .pdf and the generated .txt.\n",
    "You can crawl the data in the most convenient way for you."
   ]
  },
  {
   "cell_type": "code",
   "execution_count": 15,
   "metadata": {},
   "outputs": [],
   "source": [
    "import requests\n",
    "from bs4 import BeautifulSoup\n",
    "from urllib.parse import urljoin"
   ]
  },
  {
   "cell_type": "markdown",
   "metadata": {},
   "source": [
    "### Process main section"
   ]
  },
  {
   "cell_type": "code",
   "execution_count": 3,
   "metadata": {},
   "outputs": [
    {
     "name": "stdout",
     "output_type": "stream",
     "text": [
      "200\n"
     ]
    }
   ],
   "source": [
    "url = \"https://dia-iq.lt/naujienos/\"\n",
    "response = requests.get(url)\n",
    "\n",
    "print(response.status_code)"
   ]
  },
  {
   "cell_type": "code",
   "execution_count": 26,
   "metadata": {},
   "outputs": [
    {
     "name": "stdout",
     "output_type": "stream",
     "text": [
      "next page: https://dia-iq.lt/naujienos/page/2/\n",
      "['https://dia-iq.lt/dexcom-one-ir-xdrip/', 'https://dia-iq.lt/dexcom-one-ir-xdrip/', 'https://dia-iq.lt/author/iq/', 'https://dia-iq.lt/dexcom-one-ir-xdrip/', 'https://dia-iq.lt/parama-palaikymo-krepseliams-naujai-diagnozuotiems-vaikams/', 'https://dia-iq.lt/parama-palaikymo-krepseliams-naujai-diagnozuotiems-vaikams/', 'https://dia-iq.lt/author/iq/', 'https://dia-iq.lt/diabetine-ketoacidoze-priezastys-gydymas-ir-prevencija/', 'https://dia-iq.lt/diabetine-ketoacidoze-priezastys-gydymas-ir-prevencija/', 'https://dia-iq.lt/author/iq/', 'https://dia-iq.lt/diabetine-ketoacidoze-priezastys-gydymas-ir-prevencija/', 'https://dia-iq.lt/koju-zaizdos-2/', 'https://dia-iq.lt/koju-zaizdos-2/', 'https://dia-iq.lt/author/iq/', 'https://dia-iq.lt/koju-zaizdos-2/', 'https://dia-iq.lt/insulino-pompos/', 'https://dia-iq.lt/insulino-pompos/', 'https://dia-iq.lt/author/iq/', 'https://dia-iq.lt/insulino-pompos/', 'https://dia-iq.lt/ketonai-cd/', 'https://dia-iq.lt/ketonai-cd/', 'https://dia-iq.lt/author/iq/', 'https://dia-iq.lt/ketonai-cd/']\n"
     ]
    }
   ],
   "source": [
    "soup = BeautifulSoup(response.content, \"html.parser\")\n",
    "main_content = soup.find(\"main\", id=\"main\") # find main body of a page\n",
    "\n",
    "article_div = main_content.find(\"div\", class_=\"blog-isotope\") # get section with articles\n",
    "\n",
    "# Extract article links\n",
    "article_links = []\n",
    "for a_tag in article_div.find_all(\"a\", href=True):\n",
    "    article_links.append(urljoin(url, a_tag[\"href\"]))\n",
    "\n",
    "# Find the pagination section\n",
    "pagination = main_content.find(\"ul\", class_=\"pagination justify-content-center\")\n",
    "next_page = None\n",
    "if pagination:\n",
    "    next_button = pagination.find(\"li\", class_=\"tt-link-arrow\").find(\"a\")  # Look for \"next page\" button\n",
    "    if next_button:\n",
    "        next_page = urljoin(url, next_button[\"href\"])\n",
    "\n",
    "print(f\"next page: {next_page}\")\n",
    "print(article_links)"
   ]
  },
  {
   "cell_type": "code",
   "execution_count": 55,
   "metadata": {},
   "outputs": [
    {
     "name": "stdout",
     "output_type": "stream",
     "text": [
      "200\n",
      "next page: https://dia-iq.lt/naujienos/page/3/\n",
      "['https://dia-iq.lt/juostele/', 'https://dia-iq.lt/juostele/', 'https://dia-iq.lt/author/iq/', 'https://dia-iq.lt/juostele/', 'https://dia-iq.lt/vaikai-cd/', 'https://dia-iq.lt/vaikai-cd/', 'https://dia-iq.lt/author/iq/', 'https://dia-iq.lt/vaikai-cd/', 'https://dia-iq.lt/koju-zaizdos/', 'https://dia-iq.lt/koju-zaizdos/', 'https://dia-iq.lt/author/iq/', 'https://dia-iq.lt/koju-zaizdos/', 'https://dia-iq.lt/alergija/', 'https://dia-iq.lt/alergija/', 'https://dia-iq.lt/author/iq/', 'https://dia-iq.lt/alergija/', 'https://dia-iq.lt/svajonems-pildytis-diabetas-netrukdo/', 'https://dia-iq.lt/svajonems-pildytis-diabetas-netrukdo/', 'https://dia-iq.lt/author/iq/', 'https://dia-iq.lt/svajonems-pildytis-diabetas-netrukdo/', 'https://dia-iq.lt/gpm/', 'https://dia-iq.lt/gpm/', 'https://dia-iq.lt/author/iq/', 'https://dia-iq.lt/gpm/']\n"
     ]
    }
   ],
   "source": [
    "url = \"https://dia-iq.lt/naujienos/page/2/\"\n",
    "response = requests.get(url)\n",
    "\n",
    "print(response.status_code)\n",
    "\n",
    "soup = BeautifulSoup(response.content, \"html.parser\")\n",
    "main_content = soup.find(\"main\", id=\"main\") # find main body of a page\n",
    "\n",
    "article_div = main_content.find(\"div\", class_=\"blog-isotope\") # get section with articles\n",
    "\n",
    "# Extract article links\n",
    "article_links = []\n",
    "for a_tag in article_div.find_all(\"a\", href=True):\n",
    "    article_links.append(urljoin(url, a_tag[\"href\"]))\n",
    "\n",
    "# Find the pagination section\n",
    "pagination = main_content.find(\"ul\", class_=\"pagination justify-content-center\")\n",
    "next_page = None\n",
    "if pagination:\n",
    "    # Find all list items\n",
    "    for li in pagination.find_all(\"li\"):\n",
    "        # Check if the item has the \"icon-right-arrow\" SVG inside\n",
    "        svg_icon = li.find(\"svg\", class_=\"icon-right-arrow\")\n",
    "        if svg_icon:  # This is the \"next page\" button\n",
    "            next_button = li.find(\"a\", href=True)\n",
    "            if next_button:\n",
    "                next_page = urljoin(url, next_button[\"href\"])\n",
    "\n",
    "print(f\"next page: {next_page}\")\n",
    "print(article_links)"
   ]
  },
  {
   "cell_type": "markdown",
   "metadata": {},
   "source": [
    "### Process Article"
   ]
  },
  {
   "cell_type": "code",
   "execution_count": 33,
   "metadata": {},
   "outputs": [],
   "source": [
    "import json"
   ]
  },
  {
   "cell_type": "code",
   "execution_count": 29,
   "metadata": {},
   "outputs": [],
   "source": [
    "article_response = requests.get(article_links[0]) \n",
    "soup = BeautifulSoup(article_response.content, \"html.parser\")"
   ]
  },
  {
   "cell_type": "code",
   "execution_count": 34,
   "metadata": {},
   "outputs": [],
   "source": [
    "script_tag = soup.find(\"script\", class_=\"aioseo-schema\") # get metadata section\n",
    "json_data = json.loads(script_tag.string) "
   ]
  },
  {
   "cell_type": "code",
   "execution_count": 41,
   "metadata": {},
   "outputs": [
    {
     "data": {
      "text/plain": [
       "{'@context': 'https://schema.org',\n",
       " '@graph': [{'@type': 'BlogPosting',\n",
       "   '@id': 'https://dia-iq.lt/dexcom-one-ir-xdrip/#blogposting',\n",
       "   'name': 'Dexcom ONE+ ir xDrip+ - Klubas DIABETO IQ',\n",
       "   'headline': 'Dexcom ONE+ ir xDrip+',\n",
       "   'author': {'@id': 'https://dia-iq.lt/author/iq/#author'},\n",
       "   'publisher': {'@id': 'https://dia-iq.lt/#organization'},\n",
       "   'image': {'@type': 'ImageObject',\n",
       "    'url': 'https://dia-iq.lt/wp-content/uploads/2024/07/449192638_865928902234766_3093992898054015466_n-1.jpg',\n",
       "    'width': 1367,\n",
       "    'height': 2048,\n",
       "    'caption': 'Dexcom One+ ir xDrip+'},\n",
       "   'datePublished': '2024-07-19T06:53:04+00:00',\n",
       "   'dateModified': '2024-11-28T17:19:53+00:00',\n",
       "   'inLanguage': 'lt-LT',\n",
       "   'mainEntityOfPage': {'@id': 'https://dia-iq.lt/dexcom-one-ir-xdrip/#webpage'},\n",
       "   'isPartOf': {'@id': 'https://dia-iq.lt/dexcom-one-ir-xdrip/#webpage'},\n",
       "   'articleSection': 'Diabeto kontrolė ir naujausia informacija apie cukrinio diabeto kontrolę'},\n",
       "  {'@type': 'BreadcrumbList',\n",
       "   '@id': 'https://dia-iq.lt/dexcom-one-ir-xdrip/#breadcrumblist',\n",
       "   'itemListElement': [{'@type': 'ListItem',\n",
       "     '@id': 'https://dia-iq.lt/#listItem',\n",
       "     'position': 1,\n",
       "     'name': 'Home',\n",
       "     'item': 'https://dia-iq.lt/',\n",
       "     'nextItem': 'https://dia-iq.lt/dexcom-one-ir-xdrip/#listItem'},\n",
       "    {'@type': 'ListItem',\n",
       "     '@id': 'https://dia-iq.lt/dexcom-one-ir-xdrip/#listItem',\n",
       "     'position': 2,\n",
       "     'name': 'Dexcom ONE+ ir xDrip+',\n",
       "     'previousItem': 'https://dia-iq.lt/#listItem'}]},\n",
       "  {'@type': 'Organization',\n",
       "   '@id': 'https://dia-iq.lt/#organization',\n",
       "   'name': 'Klubas DIABETO IQ',\n",
       "   'description': 'Diabeto IQ',\n",
       "   'url': 'https://dia-iq.lt/',\n",
       "   'logo': {'@type': 'ImageObject',\n",
       "    'url': 'https://dia-iq.lt/wp-content/uploads/2021/10/cropped-cropped-Diabeto-IQ_logotipas.png',\n",
       "    '@id': 'https://dia-iq.lt/dexcom-one-ir-xdrip/#organizationLogo',\n",
       "    'width': 921,\n",
       "    'height': 304},\n",
       "   'image': {'@id': 'https://dia-iq.lt/dexcom-one-ir-xdrip/#organizationLogo'}},\n",
       "  {'@type': 'Person',\n",
       "   '@id': 'https://dia-iq.lt/author/iq/#author',\n",
       "   'url': 'https://dia-iq.lt/author/iq/',\n",
       "   'name': 'Diabeto IQ',\n",
       "   'image': {'@type': 'ImageObject',\n",
       "    '@id': 'https://dia-iq.lt/dexcom-one-ir-xdrip/#authorImage',\n",
       "    'url': 'https://secure.gravatar.com/avatar/2315b23f2ab1f13ec63314a09648db2f?s=96&d=mm&r=g',\n",
       "    'width': 96,\n",
       "    'height': 96,\n",
       "    'caption': 'Diabeto IQ'}},\n",
       "  {'@type': 'WebPage',\n",
       "   '@id': 'https://dia-iq.lt/dexcom-one-ir-xdrip/#webpage',\n",
       "   'url': 'https://dia-iq.lt/dexcom-one-ir-xdrip/',\n",
       "   'name': 'Dexcom ONE+ ir xDrip+ - Klubas DIABETO IQ',\n",
       "   'description': 'Įsitikinę, kad naujas jutiklis nepažeistas, vadovaukitės gamintojo instrukcijomis, kaip įvesti jutiklį. Dexcom One+ sesija prasidės automatiškai įvedus jutiklį. Jutiklis šyla 30 minučių nuo jo įvedimo momento, taigi įvedę naują jutiklį likus 30 minučių iki senojo jutiklio sesijos pabaigos, išvengsite laiko tarpo be glikemijos duomenų. Atkreipkite dėmesį į 4 skaitmenų susiejimo kodą (apibraukta raudonai), esantį ant',\n",
       "   'inLanguage': 'lt-LT',\n",
       "   'isPartOf': {'@id': 'https://dia-iq.lt/#website'},\n",
       "   'breadcrumb': {'@id': 'https://dia-iq.lt/dexcom-one-ir-xdrip/#breadcrumblist'},\n",
       "   'author': {'@id': 'https://dia-iq.lt/author/iq/#author'},\n",
       "   'creator': {'@id': 'https://dia-iq.lt/author/iq/#author'},\n",
       "   'image': {'@type': 'ImageObject',\n",
       "    'url': 'https://dia-iq.lt/wp-content/uploads/2024/07/449192638_865928902234766_3093992898054015466_n-1.jpg',\n",
       "    '@id': 'https://dia-iq.lt/dexcom-one-ir-xdrip/#mainImage',\n",
       "    'width': 1367,\n",
       "    'height': 2048,\n",
       "    'caption': 'Dexcom One+ ir xDrip+'},\n",
       "   'primaryImageOfPage': {'@id': 'https://dia-iq.lt/dexcom-one-ir-xdrip/#mainImage'},\n",
       "   'datePublished': '2024-07-19T06:53:04+00:00',\n",
       "   'dateModified': '2024-11-28T17:19:53+00:00'},\n",
       "  {'@type': 'WebSite',\n",
       "   '@id': 'https://dia-iq.lt/#website',\n",
       "   'url': 'https://dia-iq.lt/',\n",
       "   'name': 'Klubas DIABETO IQ',\n",
       "   'description': 'Diabeto IQ',\n",
       "   'inLanguage': 'lt-LT',\n",
       "   'publisher': {'@id': 'https://dia-iq.lt/#organization'}}]}"
      ]
     },
     "execution_count": 41,
     "metadata": {},
     "output_type": "execute_result"
    }
   ],
   "source": [
    "json_data"
   ]
  },
  {
   "cell_type": "code",
   "execution_count": 48,
   "metadata": {},
   "outputs": [
    {
     "name": "stdout",
     "output_type": "stream",
     "text": [
      "{'@type': 'BlogPosting', '@id': 'https://dia-iq.lt/dexcom-one-ir-xdrip/#blogposting', 'name': 'Dexcom ONE+ ir xDrip+ - Klubas DIABETO IQ', 'headline': 'Dexcom ONE+ ir xDrip+', 'author': {'@id': 'https://dia-iq.lt/author/iq/#author'}, 'publisher': {'@id': 'https://dia-iq.lt/#organization'}, 'image': {'@type': 'ImageObject', 'url': 'https://dia-iq.lt/wp-content/uploads/2024/07/449192638_865928902234766_3093992898054015466_n-1.jpg', 'width': 1367, 'height': 2048, 'caption': 'Dexcom One+ ir xDrip+'}, 'datePublished': '2024-07-19T06:53:04+00:00', 'dateModified': '2024-11-28T17:19:53+00:00', 'inLanguage': 'lt-LT', 'mainEntityOfPage': {'@id': 'https://dia-iq.lt/dexcom-one-ir-xdrip/#webpage'}, 'isPartOf': {'@id': 'https://dia-iq.lt/dexcom-one-ir-xdrip/#webpage'}, 'articleSection': 'Diabeto kontrolė ir naujausia informacija apie cukrinio diabeto kontrolę'}\n",
      "{'@type': 'BreadcrumbList', '@id': 'https://dia-iq.lt/dexcom-one-ir-xdrip/#breadcrumblist', 'itemListElement': [{'@type': 'ListItem', '@id': 'https://dia-iq.lt/#listItem', 'position': 1, 'name': 'Home', 'item': 'https://dia-iq.lt/', 'nextItem': 'https://dia-iq.lt/dexcom-one-ir-xdrip/#listItem'}, {'@type': 'ListItem', '@id': 'https://dia-iq.lt/dexcom-one-ir-xdrip/#listItem', 'position': 2, 'name': 'Dexcom ONE+ ir xDrip+', 'previousItem': 'https://dia-iq.lt/#listItem'}]}\n",
      "{'@type': 'Organization', '@id': 'https://dia-iq.lt/#organization', 'name': 'Klubas DIABETO IQ', 'description': 'Diabeto IQ', 'url': 'https://dia-iq.lt/', 'logo': {'@type': 'ImageObject', 'url': 'https://dia-iq.lt/wp-content/uploads/2021/10/cropped-cropped-Diabeto-IQ_logotipas.png', '@id': 'https://dia-iq.lt/dexcom-one-ir-xdrip/#organizationLogo', 'width': 921, 'height': 304}, 'image': {'@id': 'https://dia-iq.lt/dexcom-one-ir-xdrip/#organizationLogo'}}\n",
      "{'@type': 'Person', '@id': 'https://dia-iq.lt/author/iq/#author', 'url': 'https://dia-iq.lt/author/iq/', 'name': 'Diabeto IQ', 'image': {'@type': 'ImageObject', '@id': 'https://dia-iq.lt/dexcom-one-ir-xdrip/#authorImage', 'url': 'https://secure.gravatar.com/avatar/2315b23f2ab1f13ec63314a09648db2f?s=96&d=mm&r=g', 'width': 96, 'height': 96, 'caption': 'Diabeto IQ'}}\n",
      "{'@type': 'WebPage', '@id': 'https://dia-iq.lt/dexcom-one-ir-xdrip/#webpage', 'url': 'https://dia-iq.lt/dexcom-one-ir-xdrip/', 'name': 'Dexcom ONE+ ir xDrip+ - Klubas DIABETO IQ', 'description': 'Įsitikinę, kad naujas jutiklis nepažeistas, vadovaukitės gamintojo instrukcijomis, kaip įvesti jutiklį. Dexcom One+ sesija prasidės automatiškai įvedus jutiklį. Jutiklis šyla 30 minučių nuo jo įvedimo momento, taigi įvedę naują jutiklį likus 30 minučių iki senojo jutiklio sesijos pabaigos, išvengsite laiko tarpo be glikemijos duomenų. Atkreipkite dėmesį į 4 skaitmenų susiejimo kodą (apibraukta raudonai), esantį ant', 'inLanguage': 'lt-LT', 'isPartOf': {'@id': 'https://dia-iq.lt/#website'}, 'breadcrumb': {'@id': 'https://dia-iq.lt/dexcom-one-ir-xdrip/#breadcrumblist'}, 'author': {'@id': 'https://dia-iq.lt/author/iq/#author'}, 'creator': {'@id': 'https://dia-iq.lt/author/iq/#author'}, 'image': {'@type': 'ImageObject', 'url': 'https://dia-iq.lt/wp-content/uploads/2024/07/449192638_865928902234766_3093992898054015466_n-1.jpg', '@id': 'https://dia-iq.lt/dexcom-one-ir-xdrip/#mainImage', 'width': 1367, 'height': 2048, 'caption': 'Dexcom One+ ir xDrip+'}, 'primaryImageOfPage': {'@id': 'https://dia-iq.lt/dexcom-one-ir-xdrip/#mainImage'}, 'datePublished': '2024-07-19T06:53:04+00:00', 'dateModified': '2024-11-28T17:19:53+00:00'}\n",
      "{'@type': 'WebSite', '@id': 'https://dia-iq.lt/#website', 'url': 'https://dia-iq.lt/', 'name': 'Klubas DIABETO IQ', 'description': 'Diabeto IQ', 'inLanguage': 'lt-LT', 'publisher': {'@id': 'https://dia-iq.lt/#organization'}}\n",
      "\n",
      "\n",
      "@type\n",
      "@id\n",
      "name\n",
      "headline\n",
      "author\n",
      "publisher\n",
      "image\n",
      "datePublished\n",
      "dateModified\n",
      "inLanguage\n",
      "mainEntityOfPage\n",
      "isPartOf\n",
      "articleSection\n"
     ]
    }
   ],
   "source": [
    "for item in json_data.get('@graph', []):\n",
    "    print(item)\n",
    "\n",
    "print(\"\\n\")\n",
    "\n",
    "for item in json_data.get(\"@graph\", []):\n",
    "    if item[\"@type\"] == \"BlogPosting\":\n",
    "        for i in item:\n",
    "            print(i)"
   ]
  },
  {
   "cell_type": "code",
   "execution_count": 49,
   "metadata": {},
   "outputs": [],
   "source": [
    "for item in json_data.get(\"@graph\", []):\n",
    "    if item[\"@type\"] == \"BlogPosting\":\n",
    "        for i in item:\n",
    "            metadata = {\n",
    "                \"@type\": item.get(\"@type\"),\n",
    "                \"@id\": item.get(\"@id\"),\n",
    "                \"name\": item.get(\"name\"),\n",
    "                \"headline\": item.get(\"headline\"),\n",
    "                \"author\": item.get(\"author\", {}).get(\"@id\") if item.get(\"author\") else None,\n",
    "                \"publisher\": item.get(\"publisher\", {}).get(\"@id\") if item.get(\"publisher\") else None,\n",
    "                \"image\": item.get(\"image\", {}).get(\"url\") if item.get(\"image\") else None,\n",
    "                \"datePublished\": item.get(\"datePublished\"),\n",
    "                \"dateModified\": item.get(\"dateModified\"),\n",
    "                \"inLanguage\": item.get(\"inLanguage\"),\n",
    "                \"mainEntityOfPage\": item.get(\"mainEntityOfPage\", {}).get(\"@id\"),\n",
    "                \"isPartOf\": item.get(\"isPartOf\", {}).get(\"@id\"),\n",
    "                \"articleSection\": item.get(\"articleSection\"),\n",
    "            }\n",
    "\n"
   ]
  },
  {
   "cell_type": "code",
   "execution_count": null,
   "metadata": {},
   "outputs": [],
   "source": []
  }
 ],
 "metadata": {
  "kernelspec": {
   "display_name": "myvnv",
   "language": "python",
   "name": "python3"
  },
  "language_info": {
   "codemirror_mode": {
    "name": "ipython",
    "version": 3
   },
   "file_extension": ".py",
   "mimetype": "text/x-python",
   "name": "python",
   "nbconvert_exporter": "python",
   "pygments_lexer": "ipython3",
   "version": "3.12.7"
  }
 },
 "nbformat": 4,
 "nbformat_minor": 2
}
